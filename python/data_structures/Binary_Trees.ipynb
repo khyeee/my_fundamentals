{
 "cells": [
  {
   "cell_type": "markdown",
   "metadata": {},
   "source": [
    "## Binary Tree\n",
    "A __tree datastructure (non-linear)__ in which each node can have __at most two children__, referred to as the __left child__ and the __right child__.\n",
    "\n",
    "A Binary Tree data structure is somewhat similar to ```linked lists``` but with two child nodes instead of one. Binary trees are also made up of nodes, similar to linked lists.\n",
    "\n",
    "__Binary Tree Terminologies__\n",
    "- __Nodes:__ The fundamental part of a binary tree, where each node contains ```data``` and ```link``` to two child nodes.\n",
    "- __Root:__ The topmost node in a tree is known as the root node. It has no parent eand serves as the starting point for all nodes in the tree.\n",
    "- __Parent Node:__ A node that has one more more child nodes, In a binary tree, each node can have at most two children.\n",
    "- __Child Node:__ A node that is a descendant of another node (its parent).\n",
    "- __Leaf Node:__ A node that does not have any children or both children are null.\n",
    "- __Internal Node:__ A node that has at least one child. This includes all the nodes except the root and leaf nodes.\n",
    "- __Depth of a Node:__ The number of edges from a specific node to the root node. The depth of the root node is zero.\n",
    "- __Height of a Binary Tree:__ The number of nodes from the deepest leaf node to the root node.\n",
    "\n",
    "<a href='https://www.geeksforgeeks.org/introduction-to-binary-tree/'>REFERENCE: Geek for Geeks: Introduction to Binary Trees</a>"
   ]
  },
  {
   "cell_type": "markdown",
   "metadata": {},
   "source": [
    "### Declaring a Node of a Binary Tree"
   ]
  },
  {
   "cell_type": "code",
   "execution_count": 3,
   "metadata": {},
   "outputs": [],
   "source": [
    "class BT_Node:\n",
    "    def __init__(self, data):\n",
    "        self.left = None\n",
    "        self.right = None\n",
    "        self.data = data"
   ]
  },
  {
   "cell_type": "markdown",
   "metadata": {},
   "source": [
    "### Creating a Binary Tree\n",
    "_Example Binary Tree with four nodes (2, 3, 4, 5)_\n",
    "\n",
    "How it looks:\n",
    "- Formatting: Layer/Row Number ~ ```Data In Root Node -> (Left Child, Right Child)```\n",
    "- ```LEVEL 0:``` 2 -> (3, 4)\n",
    "- ```LEVEL 1:``` 3 -> (5, NULL), 4 -> (NULL, NULL)\n",
    "- ```LEVEL 2:``` 5 -> (NULL, NULL)"
   ]
  },
  {
   "cell_type": "code",
   "execution_count": 4,
   "metadata": {},
   "outputs": [],
   "source": [
    "# First, Initialize the Nodes\n",
    "firstNode = BT_Node(2)\n",
    "secondNode = BT_Node(3)\n",
    "thirdNode = BT_Node(4)\n",
    "fourthNode = BT_Node(5)\n",
    "\n",
    "# Connecting the nodes into a Binary Tree\n",
    "firstNode.left = secondNode\n",
    "firstNode.right = thirdNode\n",
    "secondNode.left = fourthNode"
   ]
  },
  {
   "cell_type": "markdown",
   "metadata": {},
   "source": [
    "### Binary Tree Operations"
   ]
  },
  {
   "cell_type": "markdown",
   "metadata": {},
   "source": [
    "#### Traversal in Binary Tree\n",
    "Traversal means visiting all nodes of the binary tree. ```Tree Traversa algorithms``` can be classified into two categories:\n",
    "- __Depth-First Search (DFS)__\n",
    "    - DFS explores as far down a branch as possible before backtracking. _It is implemented using recursion._ The main traversal methods in DFS for binary trees are...:\n",
    "        1. __Preorder Traversal (current-left-right)__: Visits Node first, then left, then right.\n",
    "        1. __Inorder Traversal (left-current-right)__: Visits left, then node, then right.\n",
    "        1. ___Postorder Traversal (left-right-current)__: Visits left, right, then node.\n",
    "- __Breadth-First Search (BFS)/Level Order Traversal__\n",
    "    - BFS explores all nodes at the present depth before moving on to nodes at the next depth level. _It is typically implemented using queue_. "
   ]
  },
  {
   "cell_type": "markdown",
   "metadata": {},
   "source": [
    "##### In-Order DFS: Left, Root, Right"
   ]
  },
  {
   "cell_type": "code",
   "execution_count": 7,
   "metadata": {},
   "outputs": [],
   "source": [
    "def in_order_dfs(node:BT_Node):\n",
    "    if node is None: return\n",
    "    in_order_dfs(node=node.left) # Explore Left Node\n",
    "    print(node.data, end=' ') # Explore Current (Root)\n",
    "    in_order_dfs(node=node.right) # Explore Right Node"
   ]
  },
  {
   "cell_type": "markdown",
   "metadata": {},
   "source": [
    "##### Pre-Order DFS: Root, Left, Right"
   ]
  },
  {
   "cell_type": "code",
   "execution_count": 8,
   "metadata": {},
   "outputs": [],
   "source": [
    "def pre_order_dfs(node:BT_Node):\n",
    "    if node is None: return\n",
    "    print(node.data, end=' ') # Explore Current (Root)\n",
    "    pre_order_dfs(node=node.left) # Explore Left Node\n",
    "    pre_order_dfs(node=node.right) # Explore Right Node"
   ]
  },
  {
   "cell_type": "markdown",
   "metadata": {},
   "source": [
    "##### Post-Order DFS: Left, Right, Root"
   ]
  },
  {
   "cell_type": "code",
   "execution_count": 9,
   "metadata": {},
   "outputs": [],
   "source": [
    "def post_order_dfs(node:BT_Node):\n",
    "    if node is None: return  \n",
    "    post_order_dfs(node=node.left) # Explore Left Node\n",
    "    post_order_dfs(node=node.right) # Explore Right Node\n",
    "    print(node.data, end=' ') # Explore Current (Root)"
   ]
  },
  {
   "cell_type": "markdown",
   "metadata": {},
   "source": [
    "##### BFS: Level Order Traversal"
   ]
  },
  {
   "cell_type": "code",
   "execution_count": 10,
   "metadata": {},
   "outputs": [],
   "source": [
    "def bfs(root:BT_Node):\n",
    "    if root is None: return\n",
    "\n",
    "    queue = [root]\n",
    "    while queue:\n",
    "        node:BT_Node = queue.pop(0)\n",
    "        print(node.data, end=' ')\n",
    "        if node.left:\n",
    "            queue.append(node.left)\n",
    "        if node.right: queue.append(node.right)"
   ]
  },
  {
   "cell_type": "markdown",
   "metadata": {},
   "source": [
    "#### Insertion in Binary Tree\n",
    "Binary Trees are ```unordered```, meaning we cant directly specify the index and insert it the new item at the specified index. __Insertions involve iteratively searching for an empty place at each level of the tree. When an empty child (left or right) is found, the new node is inserted there.__\n",
    "\n",
    "By convention, insertion always starts with the ```left``` child node."
   ]
  },
  {
   "cell_type": "code",
   "execution_count": 11,
   "metadata": {},
   "outputs": [],
   "source": [
    "from collections import deque\n",
    "\n",
    "def insert(root:BT_Node, newData):\n",
    "    # For when the tree does not exist/there is no root Node\n",
    "    if root is None: return BT_Node(newData)\n",
    "\n",
    "    queue = deque([root])\n",
    "\n",
    "    while queue:\n",
    "        temp:BT_Node = queue.popleft()\n",
    "\n",
    "        # if left-child is empty, insert new node here\n",
    "        if temp.left is None:\n",
    "            temp.left = BT_Node(newData)\n",
    "            break\n",
    "        else:\n",
    "            queue.append(temp.left)\n",
    "\n",
    "        # If right-child is empty, insert new node here\n",
    "        if temp.right is None:\n",
    "            temp.right = BT_Node(newData)\n",
    "            break\n",
    "        else:\n",
    "            queue.append(temp.right)\n",
    "\n",
    "    return root"
   ]
  },
  {
   "cell_type": "markdown",
   "metadata": {},
   "source": [
    "#### Searching in Binary Tree\n",
    "\n",
    "Searching for a value in a binary tree means looking through the tree to find a node that has that value. Since binary trees do not have a specific order like binary search trees, we typically use any traversal method to search. The most common methods are depth-first search (DFS) and breadth-first search (BFS)"
   ]
  },
  {
   "cell_type": "code",
   "execution_count": 12,
   "metadata": {},
   "outputs": [],
   "source": [
    "# Function to search for a value in the binary tree using DFS\n",
    "def searchDFS(root, value):\n",
    "    # Base case: If the tree is empty or we've reached a leaf node\n",
    "    if root is None:\n",
    "        return False\n",
    "    # If the node's data is equal to the value we are searching for\n",
    "    if root.data == value:\n",
    "        return True\n",
    "    # Recursively search in the left and right subtrees\n",
    "    left_res = searchDFS(root.left, value)\n",
    "    right_res = searchDFS(root.right, value)\n",
    "\n",
    "    return left_res or right_res"
   ]
  },
  {
   "cell_type": "markdown",
   "metadata": {},
   "source": [
    "#### Deletion in Binary Tree\n",
    "\n",
    "Deleting a node from a binary tree means removing a specific node while keeping the tree’s structure. First, we need to find the node that want to delete by traversing through the tree using any traversal method. Then replace the node’s value with the value of the last node in the tree (found by traversing to the rightmost leaf), and then delete that last node. This way, the tree structure won’t be effected. And remember to check for special cases, like trying to delete from an empty tree, to avoid any issues.\n",
    "\n",
    "Note: There is no specific rule of deletion but we always make sure that during deletion the binary tree proper should be preserved."
   ]
  },
  {
   "cell_type": "code",
   "execution_count": 13,
   "metadata": {},
   "outputs": [],
   "source": [
    "# Function to delete a node from the binary tree\n",
    "def deleteNode(root, val):\n",
    "    if root is None:\n",
    "        return None\n",
    "\n",
    "    # Use a queue to perform BFS\n",
    "    queue = deque([root])\n",
    "    target = None\n",
    "\n",
    "    # Find the target node\n",
    "    while queue:\n",
    "        curr = queue.popleft()\n",
    "\n",
    "        if curr.data == val:\n",
    "            target = curr\n",
    "            break\n",
    "        if curr.left:\n",
    "            queue.append(curr.left)\n",
    "        if curr.right:\n",
    "            queue.append(curr.right)\n",
    "\n",
    "    if target is None:\n",
    "        return root\n",
    "\n",
    "    # Find the deepest rightmost node and its parent\n",
    "    last_node = None\n",
    "    last_parent = None\n",
    "    queue = deque([(root, None)])\n",
    "\n",
    "    while queue:\n",
    "        curr, parent = queue.popleft()\n",
    "        last_node = curr\n",
    "        last_parent = parent\n",
    "\n",
    "        if curr.left:\n",
    "            queue.append((curr.left, curr))\n",
    "        if curr.right:\n",
    "            queue.append((curr.right, curr))\n",
    "\n",
    "    # Replace target's value with the last node's value\n",
    "    target.data = last_node.data\n",
    "\n",
    "    # Remove the last node\n",
    "    if last_parent:\n",
    "        if last_parent.left == last_node:\n",
    "            last_parent.left = None\n",
    "        else:\n",
    "            last_parent.right = None\n",
    "    else:\n",
    "        return None\n",
    "    return root"
   ]
  }
 ],
 "metadata": {
  "kernelspec": {
   "display_name": ".venv",
   "language": "python",
   "name": "python3"
  },
  "language_info": {
   "codemirror_mode": {
    "name": "ipython",
    "version": 3
   },
   "file_extension": ".py",
   "mimetype": "text/x-python",
   "name": "python",
   "nbconvert_exporter": "python",
   "pygments_lexer": "ipython3",
   "version": "3.12.5"
  }
 },
 "nbformat": 4,
 "nbformat_minor": 2
}
