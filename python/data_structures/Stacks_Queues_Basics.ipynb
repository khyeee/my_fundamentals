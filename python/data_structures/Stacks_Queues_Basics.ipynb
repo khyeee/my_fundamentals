{
 "cells": [
  {
   "cell_type": "markdown",
   "metadata": {},
   "source": [
    "## Stacks & Queues\n",
    "---\n",
    "### Stacks\n",
    "Stacks are  a type of data structure that follows the Last In First Out (LIFO) principle. This means that the element added last will be the one to be removed first.\n",
    "\n",
    "In __Python__, stacks are implemented as a _list_ object. \n",
    "- Use the `append()` method to _add an element at the end_ of the list (stack). \n",
    "- the `pop()` method _to remove the last appended item_ from the list (stack).\n"
   ]
  },
  {
   "cell_type": "code",
   "execution_count": 1,
   "metadata": {},
   "outputs": [
    {
     "data": {
      "text/plain": [
       "[0, 1, 2, 3]"
      ]
     },
     "execution_count": 1,
     "metadata": {},
     "output_type": "execute_result"
    }
   ],
   "source": [
    "# Creating an empty stack and populating it with values\n",
    "myStack = list()\n",
    "\n",
    "for i in range(4):\n",
    "    myStack.append(i)\n",
    "\n",
    "myStack"
   ]
  },
  {
   "cell_type": "code",
   "execution_count": 2,
   "metadata": {},
   "outputs": [
    {
     "name": "stdout",
     "output_type": "stream",
     "text": [
      "Before pop method: [0, 1, 2, 3]\n",
      "After pop methodPopped Item: 3, Resulting Stack: [0, 1, 2]\n",
      "\n",
      "Before pop method: [0, 1, 2]\n",
      "After pop methodPopped Item: 2, Resulting Stack: [0, 1]\n",
      "\n",
      "Before pop method: [0, 1]\n",
      "After pop methodPopped Item: 1, Resulting Stack: [0]\n",
      "\n",
      "Before pop method: [0]\n",
      "After pop methodPopped Item: 0, Resulting Stack: []\n",
      "\n",
      "Stack is now empty\n"
     ]
    }
   ],
   "source": [
    "# Items of a stack can be accessed through list.pop()\n",
    "while myStack:\n",
    "    print(f'Before pop method: ', end='')\n",
    "    print(myStack, end='\\n')\n",
    "    poppedItem = myStack.pop()\n",
    "    print(f'After pop method', end='')\n",
    "    print(f'Popped Item: {poppedItem}', end=', ')\n",
    "    print('Resulting Stack: ', end='')\n",
    "    print(myStack, end='\\n\\n')\n",
    "\n",
    "    if not myStack:\n",
    "        print('Stack is now empty')"
   ]
  },
  {
   "cell_type": "markdown",
   "metadata": {},
   "source": [
    "### Queues\n",
    "Similar to Stacks, Queues work on the principle of __First-In, First-Out__. This means that elements are added and removed from the collection in the order they are added.\n",
    "\n",
    "In __Python__, queues are also implemented as a _list_ object. \n",
    "- Use the `append()` method to _add an element at the end_ of the list (stack). \n",
    "- the `pop(0)` method _to remove the first item_ from the list (stack).\n"
   ]
  },
  {
   "cell_type": "code",
   "execution_count": 3,
   "metadata": {},
   "outputs": [
    {
     "name": "stdout",
     "output_type": "stream",
     "text": [
      "Added...0\n",
      "Added...1\n",
      "Added...2\n",
      "Added...3\n"
     ]
    },
    {
     "data": {
      "text/plain": [
       "[0, 1, 2, 3]"
      ]
     },
     "execution_count": 3,
     "metadata": {},
     "output_type": "execute_result"
    }
   ],
   "source": [
    "myQueue = list()\n",
    "for i in range(4):\n",
    "    print(f'Added...{i}')\n",
    "    myQueue.append(i)\n",
    "\n",
    "myQueue"
   ]
  },
  {
   "cell_type": "code",
   "execution_count": 4,
   "metadata": {},
   "outputs": [
    {
     "name": "stdout",
     "output_type": "stream",
     "text": [
      "Before pop method: [0, 1, 2, 3]\n",
      "After pop methodPopped Item: 0, Resulting Stack: [1, 2, 3]\n",
      "\n",
      "Before pop method: [1, 2, 3]\n",
      "After pop methodPopped Item: 1, Resulting Stack: [2, 3]\n",
      "\n",
      "Before pop method: [2, 3]\n",
      "After pop methodPopped Item: 2, Resulting Stack: [3]\n",
      "\n",
      "Before pop method: [3]\n",
      "After pop methodPopped Item: 3, Resulting Stack: []\n",
      "\n",
      "Queue is now empty\n"
     ]
    }
   ],
   "source": [
    "while myQueue:\n",
    "    print(f'Before pop method: ', end='')\n",
    "    print(myQueue, end='\\n')\n",
    "    poppedItem = myQueue.pop(0)\n",
    "    print(f'After pop method', end='')\n",
    "    print(f'Popped Item: {poppedItem}', end=', ')\n",
    "    print('Resulting Stack: ', end='')\n",
    "    print(myQueue, end='\\n\\n')\n",
    "\n",
    "    if not myQueue:\n",
    "        print('Queue is now empty')"
   ]
  },
  {
   "cell_type": "markdown",
   "metadata": {},
   "source": [
    "#### Things to note\n",
    "While list is capable of acting as both Queues and Stacks, it is not the most efficient method of implementation.\n",
    "\n",
    "Lists can implement stacks in O(1) time. However, for Qeueus, it is slightly slower due to the properties of `list` object itself.\n",
    "\n",
    "To pop the first element from the Queue, all other elements need to be shifted one by one.\n",
    "\n",
    "---\n",
    "\n",
    "#### Deque - An alternative (Better) approach to Stacks and Queues\n",
    "`deque` can be found in the `collections` base library. This was specially designed to have fast appends and pops from both the front and back end.\n",
    "\n",
    "__Adding Elements:__\n",
    "- For _Stacks_ and _Queues_: use `.append()` method\n",
    "\n",
    "__Removing Elements:__\n",
    "- For _Stacks_ : use `.pop()`\n",
    "- For _Queues_ : use `.popleft()`\n"
   ]
  },
  {
   "cell_type": "code",
   "execution_count": 5,
   "metadata": {},
   "outputs": [],
   "source": [
    "from collections import deque"
   ]
  },
  {
   "cell_type": "code",
   "execution_count": 6,
   "metadata": {},
   "outputs": [
    {
     "name": "stdout",
     "output_type": "stream",
     "text": [
      "Added 0 to Queue and Stack...\n",
      "Added 1 to Queue and Stack...\n",
      "Added 2 to Queue and Stack...\n",
      "Added 3 to Queue and Stack...\n",
      "Added 4 to Queue and Stack...\n",
      "Added 5 to Queue and Stack...\n",
      "Queue: deque([0, 1, 2, 3, 4, 5])\n",
      "Stack: deque([0, 1, 2, 3, 4, 5])\n"
     ]
    }
   ],
   "source": [
    "# Initialising deque objects with empty lists\n",
    "dQueue = deque(list())\n",
    "dStack = deque(list())\n",
    "\n",
    "# Populating the Stack and Queue\n",
    "for i in range(6):\n",
    "    print(f'Added {i} to Queue and Stack...')\n",
    "    dQueue.append(i)\n",
    "    dStack.append(i)\n",
    "\n",
    "print('Queue: ', end='')\n",
    "print(dQueue)\n",
    "print('Stack: ', end='')\n",
    "print(dStack)"
   ]
  },
  {
   "cell_type": "code",
   "execution_count": 7,
   "metadata": {},
   "outputs": [
    {
     "name": "stdout",
     "output_type": "stream",
     "text": [
      "Before pop method: deque([0, 1, 2, 3, 4, 5])\n",
      "After pop methodPopped Item: 5, Resulting Stack: deque([0, 1, 2, 3, 4])\n",
      "\n",
      "Before pop method: deque([0, 1, 2, 3, 4])\n",
      "After pop methodPopped Item: 4, Resulting Stack: deque([0, 1, 2, 3])\n",
      "\n",
      "Before pop method: deque([0, 1, 2, 3])\n",
      "After pop methodPopped Item: 3, Resulting Stack: deque([0, 1, 2])\n",
      "\n",
      "Before pop method: deque([0, 1, 2])\n",
      "After pop methodPopped Item: 2, Resulting Stack: deque([0, 1])\n",
      "\n",
      "Before pop method: deque([0, 1])\n",
      "After pop methodPopped Item: 1, Resulting Stack: deque([0])\n",
      "\n",
      "Before pop method: deque([0])\n",
      "After pop methodPopped Item: 0, Resulting Stack: deque([])\n",
      "\n",
      "Stack is now empty\n"
     ]
    }
   ],
   "source": [
    "# Removing items from Stacks\n",
    "while dStack:\n",
    "    print(f'Before pop method: ', end='')\n",
    "    print(dStack, end='\\n')\n",
    "    poppedItem = dStack.pop()\n",
    "    print(f'After pop method', end='')\n",
    "    print(f'Popped Item: {poppedItem}', end=', ')\n",
    "    print('Resulting Stack: ', end='')\n",
    "    print(dStack, end='\\n\\n')\n",
    "\n",
    "    if not dStack:\n",
    "        print('Stack is now empty') "
   ]
  },
  {
   "cell_type": "code",
   "execution_count": 8,
   "metadata": {},
   "outputs": [
    {
     "name": "stdout",
     "output_type": "stream",
     "text": [
      "Before pop method: deque([0, 1, 2, 3, 4, 5])\n",
      "After pop methodPopped Item: 0, Resulting Stack: deque([1, 2, 3, 4, 5])\n",
      "\n",
      "Before pop method: deque([1, 2, 3, 4, 5])\n",
      "After pop methodPopped Item: 1, Resulting Stack: deque([2, 3, 4, 5])\n",
      "\n",
      "Before pop method: deque([2, 3, 4, 5])\n",
      "After pop methodPopped Item: 2, Resulting Stack: deque([3, 4, 5])\n",
      "\n",
      "Before pop method: deque([3, 4, 5])\n",
      "After pop methodPopped Item: 3, Resulting Stack: deque([4, 5])\n",
      "\n",
      "Before pop method: deque([4, 5])\n",
      "After pop methodPopped Item: 4, Resulting Stack: deque([5])\n",
      "\n",
      "Before pop method: deque([5])\n",
      "After pop methodPopped Item: 5, Resulting Stack: deque([])\n",
      "\n",
      "Queue is now empty\n"
     ]
    }
   ],
   "source": [
    "# Removing items from Queue - use .popleft()\n",
    "while dQueue:\n",
    "    print(f'Before pop method: ', end='')\n",
    "    print(dQueue, end='\\n')\n",
    "    poppedItem = dQueue.popleft()\n",
    "    print(f'After pop method', end='')\n",
    "    print(f'Popped Item: {poppedItem}', end=', ')\n",
    "    print('Resulting Stack: ', end='')\n",
    "    print(dQueue, end='\\n\\n')\n",
    "\n",
    "    if not dQueue:\n",
    "        print('Queue is now empty')"
   ]
  }
 ],
 "metadata": {
  "kernelspec": {
   "display_name": "Python 3",
   "language": "python",
   "name": "python3"
  },
  "language_info": {
   "codemirror_mode": {
    "name": "ipython",
    "version": 3
   },
   "file_extension": ".py",
   "mimetype": "text/x-python",
   "name": "python",
   "nbconvert_exporter": "python",
   "pygments_lexer": "ipython3",
   "version": "3.10.1"
  }
 },
 "nbformat": 4,
 "nbformat_minor": 2
}
